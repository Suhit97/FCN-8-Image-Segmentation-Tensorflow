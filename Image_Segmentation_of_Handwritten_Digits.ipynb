{
  "nbformat": 4,
  "nbformat_minor": 0,
  "metadata": {
    "colab": {
      "name": "Image Segmentation of Handwritten Digits.ipynb",
      "provenance": [],
      "collapsed_sections": [],
      "authorship_tag": "ABX9TyORnVqBUuKcUSgcKySP/pbi",
      "include_colab_link": true
    },
    "kernelspec": {
      "name": "python3",
      "display_name": "Python 3"
    },
    "accelerator": "GPU"
  },
  "cells": [
    {
      "cell_type": "markdown",
      "metadata": {
        "id": "view-in-github",
        "colab_type": "text"
      },
      "source": [
        "<a href=\"https://colab.research.google.com/github/Suhit97/FCN-8-Image-Segmentation-Tensorflow/blob/main/Image_Segmentation_of_Handwritten_Digits.ipynb\" target=\"_parent\"><img src=\"https://colab.research.google.com/assets/colab-badge.svg\" alt=\"Open In Colab\"/></a>"
      ]
    },
    {
      "cell_type": "code",
      "metadata": {
        "id": "XAHU84Relm_v"
      },
      "source": [
        ""
      ],
      "execution_count": null,
      "outputs": []
    },
    {
      "cell_type": "code",
      "metadata": {
        "colab": {
          "base_uri": "https://localhost:8080/"
        },
        "id": "6LT0eZMytP9V",
        "outputId": "b351deee-0f04-44cc-d7c6-c24bdc455a73"
      },
      "source": [
        "import os\r\n",
        "import zipfile\r\n",
        "\r\n",
        "import PIL.Image, PIL.ImageFont, PIL.ImageDraw\r\n",
        "import numpy as np\r\n",
        "from matplotlib import pyplot as plt\r\n",
        "\r\n",
        "import tensorflow as tf\r\n",
        "import tensorflow_datasets as tfds\r\n",
        "from sklearn.model_selection import train_test_split\r\n",
        "\r\n",
        "print(\"Tensorflow version \" + tf.__version__)"
      ],
      "execution_count": null,
      "outputs": [
        {
          "output_type": "stream",
          "text": [
            "Tensorflow version 2.4.0\n"
          ],
          "name": "stdout"
        }
      ]
    },
    {
      "cell_type": "code",
      "metadata": {
        "colab": {
          "base_uri": "https://localhost:8080/"
        },
        "id": "Z1CN34YitWiO",
        "outputId": "adf8581d-fbbc-45a4-bc60-064bcf861d50"
      },
      "source": [
        "# download zipped dataset\r\n",
        "!wget --no-check-certificate \\\r\n",
        "    https://storage.googleapis.com/laurencemoroney-blog.appspot.com/m2nist.zip \\\r\n",
        "    -O /tmp/m2nist.zip\r\n",
        "\r\n",
        "# find and extract to a local folder ('/tmp/training')\r\n",
        "local_zip = '/tmp/m2nist.zip'\r\n",
        "zip_ref = zipfile.ZipFile(local_zip, 'r')\r\n",
        "zip_ref.extractall('/tmp/training')\r\n",
        "zip_ref.close()"
      ],
      "execution_count": null,
      "outputs": [
        {
          "output_type": "stream",
          "text": [
            "--2021-01-13 03:06:42--  https://storage.googleapis.com/laurencemoroney-blog.appspot.com/m2nist.zip\n",
            "Resolving storage.googleapis.com (storage.googleapis.com)... 142.250.31.128, 172.217.164.144, 142.250.73.208, ...\n",
            "Connecting to storage.googleapis.com (storage.googleapis.com)|142.250.31.128|:443... connected.\n",
            "HTTP request sent, awaiting response... 200 OK\n",
            "Length: 17378168 (17M) [application/zip]\n",
            "Saving to: ‘/tmp/m2nist.zip’\n",
            "\n",
            "/tmp/m2nist.zip     100%[===================>]  16.57M  44.0MB/s    in 0.4s    \n",
            "\n",
            "2021-01-13 03:06:43 (44.0 MB/s) - ‘/tmp/m2nist.zip’ saved [17378168/17378168]\n",
            "\n"
          ],
          "name": "stdout"
        }
      ]
    },
    {
      "cell_type": "code",
      "metadata": {
        "id": "alygh3cWtcCn"
      },
      "source": [
        "BATCH_SIZE = 32\r\n",
        "\r\n",
        "def read_image_and_annotation(image, annotation):\r\n",
        "\r\n",
        "    image = tf.cast(image, dtype=tf.float32)\r\n",
        "    image = tf.reshape(image, (image.shape[0], image.shape[1], 1,))\r\n",
        "    annotation = tf.cast(annotation, dtype=tf.int32)\r\n",
        "    image = image / 127.5\r\n",
        "    image -= 1\r\n",
        "\r\n",
        "    return image, annotation\r\n",
        "\r\n",
        "def get_training_dataset(images, annos):\r\n",
        "  '''\r\n",
        "  Prepares shuffled batches of the training set.\r\n",
        "  \r\n",
        "  Args:\r\n",
        "    images (list of strings) -- paths to each image file in the train set\r\n",
        "    annos (list of strings) -- paths to each label map in the train set\r\n",
        "\r\n",
        "  Returns:\r\n",
        "    tf Dataset containing the preprocessed train set\r\n",
        "  '''\r\n",
        "  training_dataset = tf.data.Dataset.from_tensor_slices((images, annos))\r\n",
        "  training_dataset = training_dataset.map(read_image_and_annotation)\r\n",
        "\r\n",
        "  training_dataset = training_dataset.shuffle(512, reshuffle_each_iteration=True)\r\n",
        "  training_dataset = training_dataset.batch(BATCH_SIZE)\r\n",
        "  training_dataset = training_dataset.repeat()\r\n",
        "  training_dataset = training_dataset.prefetch(-1)\r\n",
        "\r\n",
        "  return training_dataset\r\n",
        "\r\n",
        "\r\n",
        "def get_validation_dataset(images, annos):\r\n",
        "  '''\r\n",
        "  Prepares batches of the validation set.\r\n",
        "  \r\n",
        "  Args:\r\n",
        "    images (list of strings) -- paths to each image file in the val set\r\n",
        "    annos (list of strings) -- paths to each label map in the val set\r\n",
        "\r\n",
        "  Returns:\r\n",
        "    tf Dataset containing the preprocessed validation set\r\n",
        "  '''\r\n",
        "  validation_dataset = tf.data.Dataset.from_tensor_slices((images, annos))\r\n",
        "  validation_dataset = validation_dataset.map(read_image_and_annotation)\r\n",
        "  validation_dataset = validation_dataset.batch(BATCH_SIZE)\r\n",
        "  validation_dataset = validation_dataset.repeat()\r\n",
        "\r\n",
        "  return validation_dataset\r\n",
        "\r\n",
        "\r\n",
        "def get_test_dataset(images, annos):\r\n",
        "  '''\r\n",
        "  Prepares batches of the test set.\r\n",
        "  \r\n",
        "  Args:\r\n",
        "    images (list of strings) -- paths to each image file in the test set\r\n",
        "    annos (list of strings) -- paths to each label map in the test set\r\n",
        "\r\n",
        "  Returns:\r\n",
        "    tf Dataset containing the preprocessed validation set\r\n",
        "  '''\r\n",
        "  test_dataset = tf.data.Dataset.from_tensor_slices((images, annos))\r\n",
        "  test_dataset = test_dataset.map(read_image_and_annotation)\r\n",
        "  test_dataset = test_dataset.batch(BATCH_SIZE, drop_remainder=True)\r\n",
        "\r\n",
        "  return test_dataset\r\n",
        "\r\n",
        "\r\n",
        "def load_images_and_segments():\r\n",
        "  '''\r\n",
        "  Loads the images and segments as numpy arrays from npy files \r\n",
        "  and makes splits for training, validation and test datasets.\r\n",
        "\r\n",
        "  Returns:\r\n",
        "    3 tuples containing the train, val, and test splits\r\n",
        "  '''\r\n",
        "\r\n",
        "  #Loads images and segmentation masks.\r\n",
        "  images = np.load('/tmp/training/combined.npy')\r\n",
        "  segments = np.load('/tmp/training/segmented.npy')\r\n",
        "\r\n",
        "  #Makes training, validation, test splits from loaded images and segmentation masks.\r\n",
        "  train_images, val_images, train_annos, val_annos = train_test_split(images, segments, test_size=0.2, shuffle=True)\r\n",
        "  val_images, test_images, val_annos, test_annos = train_test_split(val_images, val_annos, test_size=0.2, shuffle=True)\r\n",
        "\r\n",
        "  return (train_images, train_annos), (val_images, val_annos), (test_images, test_annos)\r\n"
      ],
      "execution_count": null,
      "outputs": []
    },
    {
      "cell_type": "code",
      "metadata": {
        "id": "qqX5ywKXt0n1"
      },
      "source": [
        "# Load Dataset\r\n",
        "train_slices, val_slices, test_slices = load_images_and_segments()\r\n",
        "\r\n",
        "# Create training, validation, test datasets.\r\n",
        "training_dataset = get_training_dataset(train_slices[0], train_slices[1])\r\n",
        "validation_dataset = get_validation_dataset(val_slices[0], val_slices[1])\r\n",
        "test_dataset = get_test_dataset(test_slices[0], test_slices[1])"
      ],
      "execution_count": null,
      "outputs": []
    },
    {
      "cell_type": "code",
      "metadata": {
        "id": "dXZYJEjnt25z"
      },
      "source": [
        ""
      ],
      "execution_count": null,
      "outputs": []
    },
    {
      "cell_type": "code",
      "metadata": {
        "cellView": "both",
        "id": "d46YCbvPafbp"
      },
      "source": [
        "# Visualization Utilities\n",
        "\n",
        "# there are 11 classes in the dataset: one class for each digit (0 to 9) plus the background class\n",
        "n_classes = 11\n",
        "\n",
        "# assign a random color for each class\n",
        "colors = [tuple(np.random.randint(256, size=3) / 255.0) for i in range(n_classes)]\n",
        "\n",
        "def fuse_with_pil(images):\n",
        "  '''\n",
        "  Creates a blank image and pastes input images\n",
        "\n",
        "  Args:\n",
        "    images (list of numpy arrays) - numpy array representations of the images to paste\n",
        "  \n",
        "  Returns:\n",
        "    PIL Image object containing the images\n",
        "  '''\n",
        "\n",
        "  widths = (image.shape[1] for image in images)\n",
        "  heights = (image.shape[0] for image in images)\n",
        "  total_width = sum(widths)\n",
        "  max_height = max(heights)\n",
        "\n",
        "  new_im = PIL.Image.new('RGB', (total_width, max_height))\n",
        "\n",
        "  x_offset = 0\n",
        "  for im in images:\n",
        "    pil_image = PIL.Image.fromarray(np.uint8(im))\n",
        "    new_im.paste(pil_image, (x_offset,0))\n",
        "    x_offset += im.shape[1]\n",
        "  \n",
        "  return new_im\n",
        "\n",
        "\n",
        "def give_color_to_annotation(annotation):\n",
        "  '''\n",
        "  Converts a 2-D annotation to a numpy array with shape (height, width, 3) where\n",
        "  the third axis represents the color channel. The label values are multiplied by\n",
        "  255 and placed in this axis to give color to the annotation\n",
        "\n",
        "  Args:\n",
        "    annotation (numpy array) - label map array\n",
        "  \n",
        "  Returns:\n",
        "    the annotation array with an additional color channel/axis\n",
        "  '''\n",
        "  seg_img = np.zeros( (annotation.shape[0],annotation.shape[1], 3) ).astype('float')\n",
        "  \n",
        "  for c in range(n_classes):\n",
        "    segc = (annotation == c)\n",
        "    seg_img[:,:,0] += segc*( colors[c][0] * 255.0)\n",
        "    seg_img[:,:,1] += segc*( colors[c][1] * 255.0)\n",
        "    seg_img[:,:,2] += segc*( colors[c][2] * 255.0)\n",
        "  \n",
        "  return seg_img\n",
        "\n",
        "\n",
        "def show_annotation_and_prediction(image, annotation, prediction, iou_list, dice_score_list):\n",
        "  '''\n",
        "  Displays the images with the ground truth and predicted label maps. Also overlays the metrics.\n",
        "\n",
        "  Args:\n",
        "    image (numpy array) -- the input image\n",
        "    annotation (numpy array) -- the ground truth label map\n",
        "    prediction (numpy array) -- the predicted label map\n",
        "    iou_list (list of floats) -- the IOU values for each class\n",
        "    dice_score_list (list of floats) -- the Dice Score for each class\n",
        "  '''\n",
        "\n",
        "  new_ann = np.argmax(annotation, axis=2)\n",
        "  true_img = give_color_to_annotation(new_ann)\n",
        "  pred_img = give_color_to_annotation(prediction)\n",
        "\n",
        "  image = image + 1\n",
        "  image = image * 127.5\n",
        "  image = np.reshape(image, (image.shape[0], image.shape[1],))\n",
        "  image = np.uint8(image)\n",
        "  images = [image, np.uint8(pred_img), np.uint8(true_img)]\n",
        "\n",
        "  metrics_by_id = [(idx, iou, dice_score) for idx, (iou, dice_score) in enumerate(zip(iou_list, dice_score_list)) if iou > 0.0 and idx < 10]\n",
        "  metrics_by_id.sort(key=lambda tup: tup[1], reverse=True)  # sorts in place\n",
        "\n",
        "  display_string_list = [\"{}: IOU: {} Dice Score: {}\".format(idx, iou, dice_score) for idx, iou, dice_score in metrics_by_id]\n",
        "  display_string = \"\\n\".join(display_string_list)\n",
        "\n",
        "  plt.figure(figsize=(15, 4))\n",
        "\n",
        "  for idx, im in enumerate(images):\n",
        "    plt.subplot(1, 3, idx+1)\n",
        "    if idx == 1:\n",
        "      plt.xlabel(display_string)\n",
        "    plt.xticks([])\n",
        "    plt.yticks([])\n",
        "    plt.imshow(im)\n",
        "\n",
        "\n",
        "def show_annotation_and_image(image, annotation):\n",
        "  '''\n",
        "  Displays the image and its annotation side by side\n",
        "\n",
        "  Args:\n",
        "    image (numpy array) -- the input image\n",
        "    annotation (numpy array) -- the label map\n",
        "  '''\n",
        "  new_ann = np.argmax(annotation, axis=2)\n",
        "  seg_img = give_color_to_annotation(new_ann)\n",
        "  \n",
        "  image = image + 1\n",
        "  image = image * 127.5\n",
        "  image = np.reshape(image, (image.shape[0], image.shape[1],))\n",
        "\n",
        "  image = np.uint8(image)\n",
        "  images = [image, seg_img]\n",
        "  \n",
        "  images = [image, seg_img]\n",
        "  fused_img = fuse_with_pil(images)\n",
        "  plt.imshow(fused_img)\n",
        "\n",
        "\n",
        "def list_show_annotation(dataset, num_images):\n",
        "  '''\n",
        "  Displays images and its annotations side by side\n",
        "\n",
        "  Args:\n",
        "    dataset (tf Dataset) -- batch of images and annotations\n",
        "    num_images (int) -- number of images to display\n",
        "  '''\n",
        "  ds = dataset.unbatch()\n",
        "\n",
        "  plt.figure(figsize=(20, 15))\n",
        "  plt.title(\"Images And Annotations\")\n",
        "  plt.subplots_adjust(bottom=0.1, top=0.9, hspace=0.05)\n",
        "\n",
        "  for idx, (image, annotation) in enumerate(ds.take(num_images)):\n",
        "    plt.subplot(5, 5, idx + 1)\n",
        "    plt.yticks([])\n",
        "    plt.xticks([])\n",
        "    show_annotation_and_image(image.numpy(), annotation.numpy())\n"
      ],
      "execution_count": null,
      "outputs": []
    },
    {
      "cell_type": "code",
      "metadata": {
        "colab": {
          "base_uri": "https://localhost:8080/",
          "height": 164
        },
        "id": "mdm13JFauCrA",
        "outputId": "acd8bc33-1c1f-44c7-b1b1-b276034e4855"
      },
      "source": [
        "list_show_annotation(training_dataset, 10)"
      ],
      "execution_count": null,
      "outputs": [
        {
          "output_type": "display_data",
          "data": {
            "image/png": "[encoded data removed]",
            "text/plain": [
              "<Figure size 1440x1080 with 10 Axes>"
            ]
          },
          "metadata": {
            "tags": []
          }
        }
      ]
    },
    {
      "cell_type": "code",
      "metadata": {
        "colab": {
          "base_uri": "https://localhost:8080/",
          "height": 164
        },
        "id": "R70DKhKSuFxr",
        "outputId": "52e5aec6-4364-47f8-c6c1-bd5860a343a4"
      },
      "source": [
        "# get 10 images from the validation set\r\n",
        "list_show_annotation(validation_dataset, 10)"
      ],
      "execution_count": null,
      "outputs": [
        {
          "output_type": "display_data",
          "data": {
            "image/png": "[encoded data removed]",
            "text/plain": [
              "<Figure size 1440x1080 with 10 Axes>"
            ]
          },
          "metadata": {
            "tags": []
          }
        }
      ]
    },
    {
      "cell_type": "code",
      "metadata": {
        "id": "bbSQrQdTuIs0"
      },
      "source": [
        ""
      ],
      "execution_count": null,
      "outputs": []
    },
    {
      "cell_type": "code",
      "metadata": {
        "id": "azEEVytHR0Kn"
      },
      "source": [
        "# parameter describing where the channel dimension is found in our dataset\n",
        "IMAGE_ORDERING = 'channels_last'\n",
        "\n",
        "def conv_block(input, filters, strides, pooling_size, pool_strides):\n",
        "  '''\n",
        "  Args:\n",
        "    input (tensor) -- batch of images or features\n",
        "    filters (int) -- number of filters of the Conv2D layers\n",
        "    strides (int) -- strides setting of the Conv2D layers\n",
        "    pooling_size (int) -- pooling size of the MaxPooling2D layers\n",
        "    pool_strides (int) -- strides setting of the MaxPooling2D layers\n",
        "  \n",
        "  Returns:\n",
        "    (tensor) max pooled and batch-normalized features of the input \n",
        "  '''\n",
        " \n",
        "  # use the functional syntax to stack the layers as shown in the diagram above\n",
        "  x = tf.keras.layers.Conv2D(filters, strides, padding='same', data_format=IMAGE_ORDERING)(input)\n",
        "  x = tf.keras.layers.LeakyReLU()(x)\n",
        "  x = tf.keras.layers.Conv2D(filters, strides, padding='same', data_format=IMAGE_ORDERING)(x)\n",
        "  x = tf.keras.layers.LeakyReLU()(x)\n",
        "  x = tf.keras.layers.MaxPooling2D(2)(x)\n",
        "  x = tf.keras.layers.BatchNormalization()(x)\n",
        " \n",
        "\n",
        "  return x"
      ],
      "execution_count": null,
      "outputs": []
    },
    {
      "cell_type": "code",
      "metadata": {
        "colab": {
          "base_uri": "https://localhost:8080/"
        },
        "id": "xCpsa9vguU4X",
        "outputId": "c2e6818e-8e1d-4dc5-9eca-4ab89008139c"
      },
      "source": [
        "# TEST CODE:\r\n",
        "\r\n",
        "test_input = tf.keras.layers.Input(shape=(64,84, 1))\r\n",
        "test_output = conv_block(test_input, 32, 3, 2, 2)\r\n",
        "test_model = tf.keras.Model(inputs=test_input, outputs=test_output)\r\n",
        "\r\n",
        "print(test_model.summary())\r\n",
        "\r\n",
        "# free up test resources\r\n",
        "del test_input, test_output, test_model"
      ],
      "execution_count": null,
      "outputs": [
        {
          "output_type": "stream",
          "text": [
            "Model: \"model\"\n",
            "_________________________________________________________________\n",
            "Layer (type)                 Output Shape              Param #   \n",
            "=================================================================\n",
            "input_1 (InputLayer)         [(None, 64, 84, 1)]       0         \n",
            "_________________________________________________________________\n",
            "conv2d (Conv2D)              (None, 64, 84, 32)        320       \n",
            "_________________________________________________________________\n",
            "leaky_re_lu (LeakyReLU)      (None, 64, 84, 32)        0         \n",
            "_________________________________________________________________\n",
            "conv2d_1 (Conv2D)            (None, 64, 84, 32)        9248      \n",
            "_________________________________________________________________\n",
            "leaky_re_lu_1 (LeakyReLU)    (None, 64, 84, 32)        0         \n",
            "_________________________________________________________________\n",
            "max_pooling2d (MaxPooling2D) (None, 32, 42, 32)        0         \n",
            "_________________________________________________________________\n",
            "batch_normalization (BatchNo (None, 32, 42, 32)        128       \n",
            "=================================================================\n",
            "Total params: 9,696\n",
            "Trainable params: 9,632\n",
            "Non-trainable params: 64\n",
            "_________________________________________________________________\n",
            "None\n"
          ],
          "name": "stdout"
        }
      ]
    },
    {
      "cell_type": "code",
      "metadata": {
        "id": "91HvwZb5uaxK"
      },
      "source": [
        "def FCN8(input_height=64, input_width=84):\r\n",
        "    '''\r\n",
        "    Defines the downsampling path of the image segmentation model.\r\n",
        "\r\n",
        "    Args:\r\n",
        "      input_height (int) -- height of the images\r\n",
        "      width (int) -- width of the images\r\n",
        "\r\n",
        "    Returns:\r\n",
        "    (tuple of tensors, tensor)\r\n",
        "      tuple of tensors -- features extracted at blocks 3 to 5\r\n",
        "      tensor -- copy of the input\r\n",
        "    '''\r\n",
        "   \r\n",
        "    img_input = tf.keras.layers.Input(shape=(input_height,input_width, 1))\r\n",
        "\r\n",
        "    \r\n",
        "    \r\n",
        "    # pad the input image to have dimensions to the nearest power of two\r\n",
        "    x = tf.keras.layers.ZeroPadding2D((0,6))(img_input)\r\n",
        "\r\n",
        "    # Block 1\r\n",
        "    x = conv_block(x,32,2,2,2)\r\n",
        "    \r\n",
        "    # Block 2\r\n",
        "    x = conv_block(x,64,2,2,2)\r\n",
        "\r\n",
        "    # Block 3\r\n",
        "    x = conv_block(x,128,3,2,2)\r\n",
        "\r\n",
        "    # save the feature map at this stage\r\n",
        "    f3 = x\r\n",
        "\r\n",
        "    # Block 4\r\n",
        "    x = conv_block(x,256,3,2,2)\r\n",
        "    # save the feature map at this stage\r\n",
        "    f4 = x\r\n",
        "\r\n",
        "    # Block 5\r\n",
        "    x = conv_block(x,256,3,2,2)\r\n",
        "    # save the feature map at this stage\r\n",
        "    f5 = x\r\n",
        "\r\n",
        "    \r\n",
        "    return (f3, f4, f5), img_input"
      ],
      "execution_count": null,
      "outputs": []
    },
    {
      "cell_type": "code",
      "metadata": {
        "colab": {
          "base_uri": "https://localhost:8080/"
        },
        "id": "r1h8ZxrcuqXy",
        "outputId": "3b4777c9-3cfa-48f9-ea5d-20d91e7b2cb3"
      },
      "source": [
        "# TEST CODE:\r\n",
        "\r\n",
        "test_convs, test_img_input = FCN8()\r\n",
        "test_model = tf.keras.Model(inputs=test_img_input, outputs=[test_convs, test_img_input])\r\n",
        "\r\n",
        "print(test_model.summary())\r\n",
        "\r\n",
        "del test_convs, test_img_input, test_model"
      ],
      "execution_count": null,
      "outputs": [
        {
          "output_type": "stream",
          "text": [
            "Model: \"model_1\"\n",
            "_________________________________________________________________\n",
            "Layer (type)                 Output Shape              Param #   \n",
            "=================================================================\n",
            "input_2 (InputLayer)         [(None, 64, 84, 1)]       0         \n",
            "_________________________________________________________________\n",
            "zero_padding2d (ZeroPadding2 (None, 64, 96, 1)         0         \n",
            "_________________________________________________________________\n",
            "conv2d_2 (Conv2D)            (None, 64, 96, 32)        160       \n",
            "_________________________________________________________________\n",
            "leaky_re_lu_2 (LeakyReLU)    (None, 64, 96, 32)        0         \n",
            "_________________________________________________________________\n",
            "conv2d_3 (Conv2D)            (None, 64, 96, 32)        4128      \n",
            "_________________________________________________________________\n",
            "leaky_re_lu_3 (LeakyReLU)    (None, 64, 96, 32)        0         \n",
            "_________________________________________________________________\n",
            "max_pooling2d_1 (MaxPooling2 (None, 32, 48, 32)        0         \n",
            "_________________________________________________________________\n",
            "batch_normalization_1 (Batch (None, 32, 48, 32)        128       \n",
            "_________________________________________________________________\n",
            "conv2d_4 (Conv2D)            (None, 32, 48, 64)        8256      \n",
            "_________________________________________________________________\n",
            "leaky_re_lu_4 (LeakyReLU)    (None, 32, 48, 64)        0         \n",
            "_________________________________________________________________\n",
            "conv2d_5 (Conv2D)            (None, 32, 48, 64)        16448     \n",
            "_________________________________________________________________\n",
            "leaky_re_lu_5 (LeakyReLU)    (None, 32, 48, 64)        0         \n",
            "_________________________________________________________________\n",
            "max_pooling2d_2 (MaxPooling2 (None, 16, 24, 64)        0         \n",
            "_________________________________________________________________\n",
            "batch_normalization_2 (Batch (None, 16, 24, 64)        256       \n",
            "_________________________________________________________________\n",
            "conv2d_6 (Conv2D)            (None, 16, 24, 128)       73856     \n",
            "_________________________________________________________________\n",
            "leaky_re_lu_6 (LeakyReLU)    (None, 16, 24, 128)       0         \n",
            "_________________________________________________________________\n",
            "conv2d_7 (Conv2D)            (None, 16, 24, 128)       147584    \n",
            "_________________________________________________________________\n",
            "leaky_re_lu_7 (LeakyReLU)    (None, 16, 24, 128)       0         \n",
            "_________________________________________________________________\n",
            "max_pooling2d_3 (MaxPooling2 (None, 8, 12, 128)        0         \n",
            "_________________________________________________________________\n",
            "batch_normalization_3 (Batch (None, 8, 12, 128)        512       \n",
            "_________________________________________________________________\n",
            "conv2d_8 (Conv2D)            (None, 8, 12, 256)        295168    \n",
            "_________________________________________________________________\n",
            "leaky_re_lu_8 (LeakyReLU)    (None, 8, 12, 256)        0         \n",
            "_________________________________________________________________\n",
            "conv2d_9 (Conv2D)            (None, 8, 12, 256)        590080    \n",
            "_________________________________________________________________\n",
            "leaky_re_lu_9 (LeakyReLU)    (None, 8, 12, 256)        0         \n",
            "_________________________________________________________________\n",
            "max_pooling2d_4 (MaxPooling2 (None, 4, 6, 256)         0         \n",
            "_________________________________________________________________\n",
            "batch_normalization_4 (Batch (None, 4, 6, 256)         1024      \n",
            "_________________________________________________________________\n",
            "conv2d_10 (Conv2D)           (None, 4, 6, 256)         590080    \n",
            "_________________________________________________________________\n",
            "leaky_re_lu_10 (LeakyReLU)   (None, 4, 6, 256)         0         \n",
            "_________________________________________________________________\n",
            "conv2d_11 (Conv2D)           (None, 4, 6, 256)         590080    \n",
            "_________________________________________________________________\n",
            "leaky_re_lu_11 (LeakyReLU)   (None, 4, 6, 256)         0         \n",
            "_________________________________________________________________\n",
            "max_pooling2d_5 (MaxPooling2 (None, 2, 3, 256)         0         \n",
            "_________________________________________________________________\n",
            "batch_normalization_5 (Batch (None, 2, 3, 256)         1024      \n",
            "=================================================================\n",
            "Total params: 2,318,784\n",
            "Trainable params: 2,317,312\n",
            "Non-trainable params: 1,472\n",
            "_________________________________________________________________\n",
            "None\n"
          ],
          "name": "stdout"
        }
      ]
    },
    {
      "cell_type": "markdown",
      "metadata": {
        "id": "X-WpxLyHu--9"
      },
      "source": [
        "![Screenshot_2021-01-13 Google Colaboratory.png](data:image/png;base64,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)"
      ]
    },
    {
      "cell_type": "code",
      "metadata": {
        "id": "7ilGJIpGusyo"
      },
      "source": [
        "def fcn8_decoder(convs, n_classes):\r\n",
        "  # features from the encoder stage\r\n",
        "  f3, f4, f5 = convs\r\n",
        "\r\n",
        "  # number of filters\r\n",
        "  n = 512\r\n",
        "\r\n",
        "  # add convolutional layers on top of the CNN extractor.\r\n",
        "  o = tf.keras.layers.Conv2D(n , (7 , 7) , activation='relu' , padding='same', name=\"conv6\", data_format=IMAGE_ORDERING)(f5)\r\n",
        "  o = tf.keras.layers.Dropout(0.5)(o)\r\n",
        "\r\n",
        "  o = tf.keras.layers.Conv2D(n , (1 , 1) , activation='relu' , padding='same', name=\"conv7\", data_format=IMAGE_ORDERING)(o)\r\n",
        "  o = tf.keras.layers.Dropout(0.5)(o)\r\n",
        "\r\n",
        "  o = tf.keras.layers.Conv2D(n_classes,  (1, 1), activation='relu' , padding='same', data_format=IMAGE_ORDERING)(o)\r\n",
        "\r\n",
        "    \r\n",
        "  \r\n",
        "\r\n",
        "  # upsample the output of the encoder then crop extra pixels that were introduced\r\n",
        "  o = tf.keras.layers.Conv2DTranspose(n_classes , kernel_size=(4,4) ,  strides=(2,2) , use_bias=False )(f5)\r\n",
        "  o = tf.keras.layers.Cropping2D(cropping=(1,1))(o)\r\n",
        "\r\n",
        "  # load the pool 4 prediction and do a 1x1 convolution to reshape it to the same shape of `o` above\r\n",
        "  o2 = f4\r\n",
        "  o2 = ( tf.keras.layers.Conv2D(n_classes , ( 1 , 1 ) , activation='relu' , padding='same'))(o2)\r\n",
        "\r\n",
        "  # add the results of the upsampling and pool 4 prediction\r\n",
        "  o = tf.keras.layers.Add()([o, o2])\r\n",
        "\r\n",
        "  # upsample the resulting tensor of the operation you just did\r\n",
        "  o = (tf.keras.layers.Conv2DTranspose( n_classes , kernel_size=(4,4) ,  strides=(2,2) , use_bias=False ))(o)\r\n",
        "  o = tf.keras.layers.Cropping2D(cropping=(1, 1))(o)\r\n",
        "\r\n",
        "  # load the pool 3 prediction and do a 1x1 convolution to reshape it to the same shape of `o` above\r\n",
        "  o2 = f3\r\n",
        "  o2 = ( tf.keras.layers.Conv2D(n_classes , ( 1 , 1 ) , activation='relu' , padding='same'))(o2)\r\n",
        "\r\n",
        "  # add the results of the upsampling and pool 3 prediction\r\n",
        "  o = tf.keras.layers.Add()([o, o2])\r\n",
        "\r\n",
        "  # upsample up to the size of the original image\r\n",
        "  o = tf.keras.layers.Conv2DTranspose(n_classes , kernel_size=(8,8) ,  strides=(8,8) , use_bias=False )(o)\r\n",
        "  o = tf.keras.layers.Cropping2D(((0, 0), (0, 96-84)))(o)\r\n",
        "\r\n",
        "  # append a sigmoid activation\r\n",
        "  o = (tf.keras.layers.Activation('softmax'))(o)\r\n",
        "  \r\n",
        "\r\n",
        "  return o"
      ],
      "execution_count": null,
      "outputs": []
    },
    {
      "cell_type": "code",
      "metadata": {
        "colab": {
          "base_uri": "https://localhost:8080/"
        },
        "id": "IszrCe6zvH1G",
        "outputId": "26ffc2ba-6836-4482-c72c-5038bea5ed7e"
      },
      "source": [
        "# TEST CODE\r\n",
        "\r\n",
        "test_convs, test_img_input = FCN8()\r\n",
        "test_fcn8_decoder = fcn8_decoder(test_convs, 11)\r\n",
        "\r\n",
        "print(test_fcn8_decoder.shape)\r\n",
        "\r\n",
        "del test_convs, test_img_input, test_fcn8_decoder"
      ],
      "execution_count": null,
      "outputs": [
        {
          "output_type": "stream",
          "text": [
            "(None, 64, 84, 11)\n"
          ],
          "name": "stdout"
        }
      ]
    },
    {
      "cell_type": "markdown",
      "metadata": {
        "id": "jNbEpaoSvQK_"
      },
      "source": [
        "## The complete model"
      ]
    },
    {
      "cell_type": "code",
      "metadata": {
        "id": "tQBSMlfgvLBQ"
      },
      "source": [
        "# start the encoder using the default input size 64 x 84\r\n",
        "convs, img_input = FCN8()\r\n",
        "\r\n",
        "# pass the convolutions obtained in the encoder to the decoder\r\n",
        "dec_op = fcn8_decoder(convs, n_classes)\r\n",
        "\r\n",
        "# define the model specifying the input (batch of images) and output (decoder output)\r\n",
        "model = tf.keras.Model(inputs = img_input, outputs = dec_op)"
      ],
      "execution_count": null,
      "outputs": []
    },
    {
      "cell_type": "code",
      "metadata": {
        "colab": {
          "base_uri": "https://localhost:8080/"
        },
        "id": "PVUrM59zvS_4",
        "outputId": "87d0122a-426c-43ab-bdcb-e30709c3e8f5"
      },
      "source": [
        "model.summary()"
      ],
      "execution_count": null,
      "outputs": [
        {
          "output_type": "stream",
          "text": [
            "Model: \"model_2\"\n",
            "__________________________________________________________________________________________________\n",
            "Layer (type)                    Output Shape         Param #     Connected to                     \n",
            "==================================================================================================\n",
            "input_5 (InputLayer)            [(None, 64, 84, 1)]  0                                            \n",
            "__________________________________________________________________________________________________\n",
            "zero_padding2d_3 (ZeroPadding2D (None, 64, 96, 1)    0           input_5[0][0]                    \n",
            "__________________________________________________________________________________________________\n",
            "conv2d_35 (Conv2D)              (None, 64, 96, 32)   160         zero_padding2d_3[0][0]           \n",
            "__________________________________________________________________________________________________\n",
            "leaky_re_lu_32 (LeakyReLU)      (None, 64, 96, 32)   0           conv2d_35[0][0]                  \n",
            "__________________________________________________________________________________________________\n",
            "conv2d_36 (Conv2D)              (None, 64, 96, 32)   4128        leaky_re_lu_32[0][0]             \n",
            "__________________________________________________________________________________________________\n",
            "leaky_re_lu_33 (LeakyReLU)      (None, 64, 96, 32)   0           conv2d_36[0][0]                  \n",
            "__________________________________________________________________________________________________\n",
            "max_pooling2d_16 (MaxPooling2D) (None, 32, 48, 32)   0           leaky_re_lu_33[0][0]             \n",
            "__________________________________________________________________________________________________\n",
            "batch_normalization_16 (BatchNo (None, 32, 48, 32)   128         max_pooling2d_16[0][0]           \n",
            "__________________________________________________________________________________________________\n",
            "conv2d_37 (Conv2D)              (None, 32, 48, 64)   8256        batch_normalization_16[0][0]     \n",
            "__________________________________________________________________________________________________\n",
            "leaky_re_lu_34 (LeakyReLU)      (None, 32, 48, 64)   0           conv2d_37[0][0]                  \n",
            "__________________________________________________________________________________________________\n",
            "conv2d_38 (Conv2D)              (None, 32, 48, 64)   16448       leaky_re_lu_34[0][0]             \n",
            "__________________________________________________________________________________________________\n",
            "leaky_re_lu_35 (LeakyReLU)      (None, 32, 48, 64)   0           conv2d_38[0][0]                  \n",
            "__________________________________________________________________________________________________\n",
            "max_pooling2d_17 (MaxPooling2D) (None, 16, 24, 64)   0           leaky_re_lu_35[0][0]             \n",
            "__________________________________________________________________________________________________\n",
            "batch_normalization_17 (BatchNo (None, 16, 24, 64)   256         max_pooling2d_17[0][0]           \n",
            "__________________________________________________________________________________________________\n",
            "conv2d_39 (Conv2D)              (None, 16, 24, 128)  73856       batch_normalization_17[0][0]     \n",
            "__________________________________________________________________________________________________\n",
            "leaky_re_lu_36 (LeakyReLU)      (None, 16, 24, 128)  0           conv2d_39[0][0]                  \n",
            "__________________________________________________________________________________________________\n",
            "conv2d_40 (Conv2D)              (None, 16, 24, 128)  147584      leaky_re_lu_36[0][0]             \n",
            "__________________________________________________________________________________________________\n",
            "leaky_re_lu_37 (LeakyReLU)      (None, 16, 24, 128)  0           conv2d_40[0][0]                  \n",
            "__________________________________________________________________________________________________\n",
            "max_pooling2d_18 (MaxPooling2D) (None, 8, 12, 128)   0           leaky_re_lu_37[0][0]             \n",
            "__________________________________________________________________________________________________\n",
            "batch_normalization_18 (BatchNo (None, 8, 12, 128)   512         max_pooling2d_18[0][0]           \n",
            "__________________________________________________________________________________________________\n",
            "conv2d_41 (Conv2D)              (None, 8, 12, 256)   295168      batch_normalization_18[0][0]     \n",
            "__________________________________________________________________________________________________\n",
            "leaky_re_lu_38 (LeakyReLU)      (None, 8, 12, 256)   0           conv2d_41[0][0]                  \n",
            "__________________________________________________________________________________________________\n",
            "conv2d_42 (Conv2D)              (None, 8, 12, 256)   590080      leaky_re_lu_38[0][0]             \n",
            "__________________________________________________________________________________________________\n",
            "leaky_re_lu_39 (LeakyReLU)      (None, 8, 12, 256)   0           conv2d_42[0][0]                  \n",
            "__________________________________________________________________________________________________\n",
            "max_pooling2d_19 (MaxPooling2D) (None, 4, 6, 256)    0           leaky_re_lu_39[0][0]             \n",
            "__________________________________________________________________________________________________\n",
            "batch_normalization_19 (BatchNo (None, 4, 6, 256)    1024        max_pooling2d_19[0][0]           \n",
            "__________________________________________________________________________________________________\n",
            "conv2d_43 (Conv2D)              (None, 4, 6, 256)    590080      batch_normalization_19[0][0]     \n",
            "__________________________________________________________________________________________________\n",
            "leaky_re_lu_40 (LeakyReLU)      (None, 4, 6, 256)    0           conv2d_43[0][0]                  \n",
            "__________________________________________________________________________________________________\n",
            "conv2d_44 (Conv2D)              (None, 4, 6, 256)    590080      leaky_re_lu_40[0][0]             \n",
            "__________________________________________________________________________________________________\n",
            "leaky_re_lu_41 (LeakyReLU)      (None, 4, 6, 256)    0           conv2d_44[0][0]                  \n",
            "__________________________________________________________________________________________________\n",
            "max_pooling2d_20 (MaxPooling2D) (None, 2, 3, 256)    0           leaky_re_lu_41[0][0]             \n",
            "__________________________________________________________________________________________________\n",
            "batch_normalization_20 (BatchNo (None, 2, 3, 256)    1024        max_pooling2d_20[0][0]           \n",
            "__________________________________________________________________________________________________\n",
            "conv2d_transpose_3 (Conv2DTrans (None, 6, 8, 11)     45056       batch_normalization_20[0][0]     \n",
            "__________________________________________________________________________________________________\n",
            "cropping2d_3 (Cropping2D)       (None, 4, 6, 11)     0           conv2d_transpose_3[0][0]         \n",
            "__________________________________________________________________________________________________\n",
            "conv2d_46 (Conv2D)              (None, 4, 6, 11)     2827        batch_normalization_19[0][0]     \n",
            "__________________________________________________________________________________________________\n",
            "add_2 (Add)                     (None, 4, 6, 11)     0           cropping2d_3[0][0]               \n",
            "                                                                 conv2d_46[0][0]                  \n",
            "__________________________________________________________________________________________________\n",
            "conv2d_transpose_4 (Conv2DTrans (None, 10, 14, 11)   1936        add_2[0][0]                      \n",
            "__________________________________________________________________________________________________\n",
            "cropping2d_4 (Cropping2D)       (None, 8, 12, 11)    0           conv2d_transpose_4[0][0]         \n",
            "__________________________________________________________________________________________________\n",
            "conv2d_47 (Conv2D)              (None, 8, 12, 11)    1419        batch_normalization_18[0][0]     \n",
            "__________________________________________________________________________________________________\n",
            "add_3 (Add)                     (None, 8, 12, 11)    0           cropping2d_4[0][0]               \n",
            "                                                                 conv2d_47[0][0]                  \n",
            "__________________________________________________________________________________________________\n",
            "conv2d_transpose_5 (Conv2DTrans (None, 64, 96, 11)   7744        add_3[0][0]                      \n",
            "__________________________________________________________________________________________________\n",
            "cropping2d_5 (Cropping2D)       (None, 64, 84, 11)   0           conv2d_transpose_5[0][0]         \n",
            "__________________________________________________________________________________________________\n",
            "activation_1 (Activation)       (None, 64, 84, 11)   0           cropping2d_5[0][0]               \n",
            "==================================================================================================\n",
            "Total params: 2,377,766\n",
            "Trainable params: 2,376,294\n",
            "Non-trainable params: 1,472\n",
            "__________________________________________________________________________________________________\n"
          ],
          "name": "stdout"
        }
      ]
    },
    {
      "cell_type": "code",
      "metadata": {
        "id": "ROGBh2zsvVjP"
      },
      "source": [
        "sgd = tf.keras.optimizers.SGD(lr=1E-2, momentum=0.9, nesterov=True)\r\n",
        "\r\n",
        "model.compile(loss='categorical_crossentropy',\r\n",
        "              optimizer='adam',\r\n",
        "              metrics=['accuracy'])"
      ],
      "execution_count": null,
      "outputs": []
    },
    {
      "cell_type": "code",
      "metadata": {
        "colab": {
          "base_uri": "https://localhost:8080/"
        },
        "id": "DdzGPzm2vYiE",
        "outputId": "4ee9e505-9146-4ac3-b774-eb5aa4f061b4"
      },
      "source": [
        "EPOCHS = 70\r\n",
        "\r\n",
        "\r\n",
        "steps_per_epoch = 4000//BATCH_SIZE\r\n",
        "validation_steps = 800//BATCH_SIZE\r\n",
        "test_steps = 200//BATCH_SIZE\r\n",
        "\r\n",
        "\r\n",
        "history = model.fit(training_dataset,\r\n",
        "                    steps_per_epoch=steps_per_epoch, validation_data=validation_dataset, validation_steps=validation_steps, epochs=EPOCHS)"
      ],
      "execution_count": null,
      "outputs": [
        {
          "output_type": "stream",
          "text": [
            "Epoch 1/70\n",
            "125/125 [==============================] - 12s 33ms/step - loss: 1.0485 - accuracy: 0.6718 - val_loss: 0.3575 - val_accuracy: 0.9425\n",
            "Epoch 2/70\n",
            "125/125 [==============================] - 4s 30ms/step - loss: 0.2125 - accuracy: 0.9424 - val_loss: 0.3020 - val_accuracy: 0.9425\n",
            "Epoch 3/70\n",
            "125/125 [==============================] - 4s 31ms/step - loss: 0.1850 - accuracy: 0.9437 - val_loss: 0.2333 - val_accuracy: 0.9424\n",
            "Epoch 4/70\n",
            "125/125 [==============================] - 4s 32ms/step - loss: 0.1550 - accuracy: 0.9476 - val_loss: 0.1503 - val_accuracy: 0.9488\n",
            "Epoch 5/70\n",
            "125/125 [==============================] - 4s 31ms/step - loss: 0.1272 - accuracy: 0.9543 - val_loss: 0.1191 - val_accuracy: 0.9571\n",
            "Epoch 6/70\n",
            "125/125 [==============================] - 4s 30ms/step - loss: 0.0963 - accuracy: 0.9652 - val_loss: 0.0897 - val_accuracy: 0.9679\n",
            "Epoch 7/70\n",
            "125/125 [==============================] - 4s 31ms/step - loss: 0.0742 - accuracy: 0.9721 - val_loss: 0.0735 - val_accuracy: 0.9728\n",
            "Epoch 8/70\n",
            "125/125 [==============================] - 4s 31ms/step - loss: 0.0633 - accuracy: 0.9753 - val_loss: 0.0673 - val_accuracy: 0.9747\n",
            "Epoch 9/70\n",
            "125/125 [==============================] - 4s 31ms/step - loss: 0.0565 - accuracy: 0.9774 - val_loss: 0.0664 - val_accuracy: 0.9748\n",
            "Epoch 10/70\n",
            "125/125 [==============================] - 4s 30ms/step - loss: 0.0524 - accuracy: 0.9787 - val_loss: 0.0567 - val_accuracy: 0.9782\n",
            "Epoch 11/70\n",
            "125/125 [==============================] - 4s 31ms/step - loss: 0.0476 - accuracy: 0.9805 - val_loss: 0.0549 - val_accuracy: 0.9786\n",
            "Epoch 12/70\n",
            "125/125 [==============================] - 4s 31ms/step - loss: 0.0460 - accuracy: 0.9812 - val_loss: 0.0511 - val_accuracy: 0.9800\n",
            "Epoch 13/70\n",
            "125/125 [==============================] - 4s 31ms/step - loss: 0.0426 - accuracy: 0.9824 - val_loss: 0.0470 - val_accuracy: 0.9814\n",
            "Epoch 14/70\n",
            "125/125 [==============================] - 4s 31ms/step - loss: 0.0403 - accuracy: 0.9834 - val_loss: 0.0458 - val_accuracy: 0.9820\n",
            "Epoch 15/70\n",
            "125/125 [==============================] - 4s 31ms/step - loss: 0.0375 - accuracy: 0.9846 - val_loss: 0.0456 - val_accuracy: 0.9824\n",
            "Epoch 16/70\n",
            "125/125 [==============================] - 4s 31ms/step - loss: 0.0374 - accuracy: 0.9847 - val_loss: 0.0419 - val_accuracy: 0.9836\n",
            "Epoch 17/70\n",
            "125/125 [==============================] - 4s 30ms/step - loss: 0.0345 - accuracy: 0.9859 - val_loss: 0.0406 - val_accuracy: 0.9844\n",
            "Epoch 18/70\n",
            "125/125 [==============================] - 4s 30ms/step - loss: 0.0328 - accuracy: 0.9866 - val_loss: 0.0406 - val_accuracy: 0.9845\n",
            "Epoch 19/70\n",
            "125/125 [==============================] - 4s 31ms/step - loss: 0.0309 - accuracy: 0.9874 - val_loss: 0.0554 - val_accuracy: 0.9790\n",
            "Epoch 20/70\n",
            "125/125 [==============================] - 4s 31ms/step - loss: 0.0298 - accuracy: 0.9878 - val_loss: 0.0429 - val_accuracy: 0.9843\n",
            "Epoch 21/70\n",
            "125/125 [==============================] - 4s 31ms/step - loss: 0.0286 - accuracy: 0.9884 - val_loss: 0.0384 - val_accuracy: 0.9854\n",
            "Epoch 22/70\n",
            "125/125 [==============================] - 4s 31ms/step - loss: 0.0277 - accuracy: 0.9888 - val_loss: 0.1522 - val_accuracy: 0.9674\n",
            "Epoch 23/70\n",
            "125/125 [==============================] - 4s 31ms/step - loss: 0.0315 - accuracy: 0.9873 - val_loss: 0.0530 - val_accuracy: 0.9807\n",
            "Epoch 24/70\n",
            "125/125 [==============================] - 4s 31ms/step - loss: 0.0261 - accuracy: 0.9894 - val_loss: 0.0371 - val_accuracy: 0.9865\n",
            "Epoch 25/70\n",
            "125/125 [==============================] - 4s 31ms/step - loss: 0.0255 - accuracy: 0.9897 - val_loss: 0.0342 - val_accuracy: 0.9873\n",
            "Epoch 26/70\n",
            "125/125 [==============================] - 4s 31ms/step - loss: 0.0239 - accuracy: 0.9903 - val_loss: 0.0334 - val_accuracy: 0.9874\n",
            "Epoch 27/70\n",
            "125/125 [==============================] - 4s 31ms/step - loss: 0.0229 - accuracy: 0.9908 - val_loss: 0.0336 - val_accuracy: 0.9873\n",
            "Epoch 28/70\n",
            "125/125 [==============================] - 4s 30ms/step - loss: 0.0225 - accuracy: 0.9909 - val_loss: 0.0316 - val_accuracy: 0.9883\n",
            "Epoch 29/70\n",
            "125/125 [==============================] - 4s 31ms/step - loss: 0.0223 - accuracy: 0.9910 - val_loss: 0.0368 - val_accuracy: 0.9868\n",
            "Epoch 30/70\n",
            "125/125 [==============================] - 4s 31ms/step - loss: 0.0228 - accuracy: 0.9908 - val_loss: 0.0310 - val_accuracy: 0.9887\n",
            "Epoch 31/70\n",
            "125/125 [==============================] - 4s 32ms/step - loss: 0.0212 - accuracy: 0.9915 - val_loss: 0.0442 - val_accuracy: 0.9844\n",
            "Epoch 32/70\n",
            "125/125 [==============================] - 4s 32ms/step - loss: 0.0222 - accuracy: 0.9910 - val_loss: 0.0519 - val_accuracy: 0.9845\n",
            "Epoch 33/70\n",
            "125/125 [==============================] - 4s 32ms/step - loss: 0.0279 - accuracy: 0.9890 - val_loss: 0.0444 - val_accuracy: 0.9840\n",
            "Epoch 34/70\n",
            "125/125 [==============================] - 4s 31ms/step - loss: 0.0229 - accuracy: 0.9909 - val_loss: 0.0305 - val_accuracy: 0.9887\n",
            "Epoch 35/70\n",
            "125/125 [==============================] - 4s 31ms/step - loss: 0.0202 - accuracy: 0.9919 - val_loss: 0.0277 - val_accuracy: 0.9897\n",
            "Epoch 36/70\n",
            "125/125 [==============================] - 4s 31ms/step - loss: 0.0193 - accuracy: 0.9923 - val_loss: 0.0339 - val_accuracy: 0.9874\n",
            "Epoch 37/70\n",
            "125/125 [==============================] - 4s 31ms/step - loss: 0.0188 - accuracy: 0.9925 - val_loss: 0.0278 - val_accuracy: 0.9897\n",
            "Epoch 38/70\n",
            "125/125 [==============================] - 4s 31ms/step - loss: 0.0185 - accuracy: 0.9926 - val_loss: 0.0273 - val_accuracy: 0.9899\n",
            "Epoch 39/70\n",
            "125/125 [==============================] - 4s 31ms/step - loss: 0.0182 - accuracy: 0.9927 - val_loss: 0.0369 - val_accuracy: 0.9870\n",
            "Epoch 40/70\n",
            "125/125 [==============================] - 4s 31ms/step - loss: 0.0180 - accuracy: 0.9928 - val_loss: 0.0286 - val_accuracy: 0.9898\n",
            "Epoch 41/70\n",
            "125/125 [==============================] - 4s 31ms/step - loss: 0.0179 - accuracy: 0.9929 - val_loss: 0.0274 - val_accuracy: 0.9899\n",
            "Epoch 42/70\n",
            "125/125 [==============================] - 4s 30ms/step - loss: 0.0174 - accuracy: 0.9931 - val_loss: 0.0285 - val_accuracy: 0.9898\n",
            "Epoch 43/70\n",
            "125/125 [==============================] - 4s 30ms/step - loss: 0.0172 - accuracy: 0.9932 - val_loss: 0.0280 - val_accuracy: 0.9899\n",
            "Epoch 44/70\n",
            "125/125 [==============================] - 4s 31ms/step - loss: 0.0170 - accuracy: 0.9932 - val_loss: 0.0274 - val_accuracy: 0.9902\n",
            "Epoch 45/70\n",
            "125/125 [==============================] - 4s 31ms/step - loss: 0.0170 - accuracy: 0.9932 - val_loss: 0.0297 - val_accuracy: 0.9897\n",
            "Epoch 46/70\n",
            "125/125 [==============================] - 4s 32ms/step - loss: 0.0170 - accuracy: 0.9932 - val_loss: 0.0481 - val_accuracy: 0.9842\n",
            "Epoch 47/70\n",
            "125/125 [==============================] - 4s 31ms/step - loss: 0.0182 - accuracy: 0.9927 - val_loss: 0.0375 - val_accuracy: 0.9882\n",
            "Epoch 48/70\n",
            "125/125 [==============================] - 4s 30ms/step - loss: 0.0209 - accuracy: 0.9918 - val_loss: 0.0424 - val_accuracy: 0.9877\n",
            "Epoch 49/70\n",
            "125/125 [==============================] - 4s 31ms/step - loss: 0.0218 - accuracy: 0.9913 - val_loss: 0.0253 - val_accuracy: 0.9908\n",
            "Epoch 50/70\n",
            "125/125 [==============================] - 4s 31ms/step - loss: 0.0172 - accuracy: 0.9932 - val_loss: 0.0263 - val_accuracy: 0.9903\n",
            "Epoch 51/70\n",
            "125/125 [==============================] - 4s 31ms/step - loss: 0.0161 - accuracy: 0.9936 - val_loss: 0.0252 - val_accuracy: 0.9908\n",
            "Epoch 52/70\n",
            "125/125 [==============================] - 4s 31ms/step - loss: 0.0156 - accuracy: 0.9938 - val_loss: 0.0253 - val_accuracy: 0.9909\n",
            "Epoch 53/70\n",
            "125/125 [==============================] - 4s 31ms/step - loss: 0.0154 - accuracy: 0.9939 - val_loss: 0.0251 - val_accuracy: 0.9908\n",
            "Epoch 54/70\n",
            "125/125 [==============================] - 4s 31ms/step - loss: 0.0151 - accuracy: 0.9940 - val_loss: 0.0259 - val_accuracy: 0.9908\n",
            "Epoch 55/70\n",
            "125/125 [==============================] - 4s 31ms/step - loss: 0.0150 - accuracy: 0.9940 - val_loss: 0.0328 - val_accuracy: 0.9889\n",
            "Epoch 56/70\n",
            "125/125 [==============================] - 4s 31ms/step - loss: 0.0147 - accuracy: 0.9942 - val_loss: 0.0257 - val_accuracy: 0.9910\n",
            "Epoch 57/70\n",
            "125/125 [==============================] - 4s 30ms/step - loss: 0.0147 - accuracy: 0.9942 - val_loss: 0.0271 - val_accuracy: 0.9907\n",
            "Epoch 58/70\n",
            "125/125 [==============================] - 4s 31ms/step - loss: 0.0146 - accuracy: 0.9942 - val_loss: 0.0412 - val_accuracy: 0.9869\n",
            "Epoch 59/70\n",
            "125/125 [==============================] - 4s 31ms/step - loss: 0.0146 - accuracy: 0.9942 - val_loss: 0.0261 - val_accuracy: 0.9909\n",
            "Epoch 60/70\n",
            "125/125 [==============================] - 4s 32ms/step - loss: 0.0143 - accuracy: 0.9943 - val_loss: 0.0288 - val_accuracy: 0.9905\n",
            "Epoch 61/70\n",
            "125/125 [==============================] - 4s 31ms/step - loss: 0.0146 - accuracy: 0.9942 - val_loss: 0.0265 - val_accuracy: 0.9909\n",
            "Epoch 62/70\n",
            "125/125 [==============================] - 4s 31ms/step - loss: 0.0139 - accuracy: 0.9945 - val_loss: 0.0263 - val_accuracy: 0.9910\n",
            "Epoch 63/70\n",
            "125/125 [==============================] - 4s 31ms/step - loss: 0.0142 - accuracy: 0.9944 - val_loss: 0.0268 - val_accuracy: 0.9911\n",
            "Epoch 64/70\n",
            "125/125 [==============================] - 4s 31ms/step - loss: 0.0142 - accuracy: 0.9944 - val_loss: 0.0640 - val_accuracy: 0.9829\n",
            "Epoch 65/70\n",
            "125/125 [==============================] - 4s 31ms/step - loss: 0.0141 - accuracy: 0.9944 - val_loss: 0.0259 - val_accuracy: 0.9912\n",
            "Epoch 66/70\n",
            "125/125 [==============================] - 4s 31ms/step - loss: 0.0135 - accuracy: 0.9947 - val_loss: 0.0334 - val_accuracy: 0.9885\n",
            "Epoch 67/70\n",
            "125/125 [==============================] - 4s 31ms/step - loss: 0.0135 - accuracy: 0.9947 - val_loss: 0.0263 - val_accuracy: 0.9912\n",
            "Epoch 68/70\n",
            "125/125 [==============================] - 4s 31ms/step - loss: 0.0132 - accuracy: 0.9948 - val_loss: 0.0285 - val_accuracy: 0.9909\n",
            "Epoch 69/70\n",
            "125/125 [==============================] - 4s 31ms/step - loss: 0.0132 - accuracy: 0.9948 - val_loss: 0.0307 - val_accuracy: 0.9902\n",
            "Epoch 70/70\n",
            "125/125 [==============================] - 4s 31ms/step - loss: 0.0130 - accuracy: 0.9949 - val_loss: 0.0518 - val_accuracy: 0.9857\n"
          ],
          "name": "stdout"
        }
      ]
    },
    {
      "cell_type": "code",
      "metadata": {
        "colab": {
          "base_uri": "https://localhost:8080/"
        },
        "id": "UHT1fta8viNp",
        "outputId": "f334bd1d-8cc2-4249-f744-bd1db2df1e57"
      },
      "source": [
        "results = model.predict(test_dataset, steps=test_steps)\r\n",
        "\r\n",
        "print(results.shape)"
      ],
      "execution_count": null,
      "outputs": [
        {
          "output_type": "stream",
          "text": [
            "(192, 64, 84, 11)\n"
          ],
          "name": "stdout"
        }
      ]
    },
    {
      "cell_type": "code",
      "metadata": {
        "id": "zgex2rS5vo3w"
      },
      "source": [
        "def class_wise_metrics(y_true, y_pred):\r\n",
        "  '''\r\n",
        "  Computes the class-wise IOU and Dice Score.\r\n",
        "\r\n",
        "  Args:\r\n",
        "    y_true (tensor) - ground truth label maps\r\n",
        "    y_pred (tensor) - predicted label maps\r\n",
        "  '''\r\n",
        "  class_wise_iou = []\r\n",
        "  class_wise_dice_score = []\r\n",
        "\r\n",
        "  smoothing_factor = 0.00001\r\n",
        "\r\n",
        "  for i in range(n_classes):\r\n",
        "    intersection = np.sum((y_pred == i) * (y_true == i))\r\n",
        "    y_true_area = np.sum((y_true == i))\r\n",
        "    y_pred_area = np.sum((y_pred == i))\r\n",
        "    combined_area = y_true_area + y_pred_area\r\n",
        "    \r\n",
        "    iou = (intersection) / (combined_area - intersection + smoothing_factor)\r\n",
        "    class_wise_iou.append(iou)\r\n",
        "    \r\n",
        "    dice_score =  2 * ((intersection) / (combined_area + smoothing_factor))\r\n",
        "    class_wise_dice_score.append(dice_score)\r\n",
        "\r\n",
        "  return class_wise_iou, class_wise_dice_score"
      ],
      "execution_count": null,
      "outputs": []
    },
    {
      "cell_type": "code",
      "metadata": {
        "colab": {
          "base_uri": "https://localhost:8080/",
          "height": 429
        },
        "id": "SX7SHbSjv-Wa",
        "outputId": "2b221725-2761-4c6e-b26e-36a0174d63a0"
      },
      "source": [
        "integer_slider = 105\r\n",
        "\r\n",
        "ds = test_dataset.unbatch()\r\n",
        "ds = ds.batch(200)\r\n",
        "images = []\r\n",
        "\r\n",
        "y_true_segments = []\r\n",
        "for image, annotation in ds.take(2):\r\n",
        "  y_true_segments = annotation\r\n",
        "  images = image\r\n",
        "  \r\n",
        "  \r\n",
        "iou, dice_score = class_wise_metrics(np.argmax(y_true_segments[integer_slider], axis=2), results[integer_slider])  \r\n",
        "show_annotation_and_prediction(image[integer_slider], annotation[integer_slider], results[integer_slider], iou, dice_score)\r\n"
      ],
      "execution_count": null,
      "outputs": [
        {
          "output_type": "error",
          "ename": "ValueError",
          "evalue": "ignored",
          "traceback": [
            "\u001b[0;31m---------------------------------------------------------------------------\u001b[0m",
            "\u001b[0;31mValueError\u001b[0m                                Traceback (most recent call last)",
            "\u001b[0;32m<ipython-input-21-27cb2a22e40e>\u001b[0m in \u001b[0;36m<module>\u001b[0;34m()\u001b[0m\n\u001b[1;32m     11\u001b[0m \u001b[0;34m\u001b[0m\u001b[0m\n\u001b[1;32m     12\u001b[0m \u001b[0;34m\u001b[0m\u001b[0m\n\u001b[0;32m---> 13\u001b[0;31m \u001b[0miou\u001b[0m\u001b[0;34m,\u001b[0m \u001b[0mdice_score\u001b[0m \u001b[0;34m=\u001b[0m \u001b[0mclass_wise_metrics\u001b[0m\u001b[0;34m(\u001b[0m\u001b[0mnp\u001b[0m\u001b[0;34m.\u001b[0m\u001b[0margmax\u001b[0m\u001b[0;34m(\u001b[0m\u001b[0my_true_segments\u001b[0m\u001b[0;34m[\u001b[0m\u001b[0minteger_slider\u001b[0m\u001b[0;34m]\u001b[0m\u001b[0;34m,\u001b[0m \u001b[0maxis\u001b[0m\u001b[0;34m=\u001b[0m\u001b[0;36m2\u001b[0m\u001b[0;34m)\u001b[0m\u001b[0;34m,\u001b[0m \u001b[0mresults\u001b[0m\u001b[0;34m[\u001b[0m\u001b[0minteger_slider\u001b[0m\u001b[0;34m]\u001b[0m\u001b[0;34m)\u001b[0m\u001b[0;34m\u001b[0m\u001b[0;34m\u001b[0m\u001b[0m\n\u001b[0m\u001b[1;32m     14\u001b[0m \u001b[0mshow_annotation_and_prediction\u001b[0m\u001b[0;34m(\u001b[0m\u001b[0mimage\u001b[0m\u001b[0;34m[\u001b[0m\u001b[0minteger_slider\u001b[0m\u001b[0;34m]\u001b[0m\u001b[0;34m,\u001b[0m \u001b[0mannotation\u001b[0m\u001b[0;34m[\u001b[0m\u001b[0minteger_slider\u001b[0m\u001b[0;34m]\u001b[0m\u001b[0;34m,\u001b[0m \u001b[0mresults\u001b[0m\u001b[0;34m[\u001b[0m\u001b[0minteger_slider\u001b[0m\u001b[0;34m]\u001b[0m\u001b[0;34m,\u001b[0m \u001b[0miou\u001b[0m\u001b[0;34m,\u001b[0m \u001b[0mdice_score\u001b[0m\u001b[0;34m)\u001b[0m\u001b[0;34m\u001b[0m\u001b[0;34m\u001b[0m\u001b[0m\n",
            "\u001b[0;32m<ipython-input-20-29343b167ff9>\u001b[0m in \u001b[0;36mclass_wise_metrics\u001b[0;34m(y_true, y_pred)\u001b[0m\n\u001b[1;32m     13\u001b[0m \u001b[0;34m\u001b[0m\u001b[0m\n\u001b[1;32m     14\u001b[0m   \u001b[0;32mfor\u001b[0m \u001b[0mi\u001b[0m \u001b[0;32min\u001b[0m \u001b[0mrange\u001b[0m\u001b[0;34m(\u001b[0m\u001b[0mn_classes\u001b[0m\u001b[0;34m)\u001b[0m\u001b[0;34m:\u001b[0m\u001b[0;34m\u001b[0m\u001b[0;34m\u001b[0m\u001b[0m\n\u001b[0;32m---> 15\u001b[0;31m     \u001b[0mintersection\u001b[0m \u001b[0;34m=\u001b[0m \u001b[0mnp\u001b[0m\u001b[0;34m.\u001b[0m\u001b[0msum\u001b[0m\u001b[0;34m(\u001b[0m\u001b[0;34m(\u001b[0m\u001b[0my_pred\u001b[0m \u001b[0;34m==\u001b[0m \u001b[0mi\u001b[0m\u001b[0;34m)\u001b[0m \u001b[0;34m*\u001b[0m \u001b[0;34m(\u001b[0m\u001b[0my_true\u001b[0m \u001b[0;34m==\u001b[0m \u001b[0mi\u001b[0m\u001b[0;34m)\u001b[0m\u001b[0;34m)\u001b[0m\u001b[0;34m\u001b[0m\u001b[0;34m\u001b[0m\u001b[0m\n\u001b[0m\u001b[1;32m     16\u001b[0m     \u001b[0my_true_area\u001b[0m \u001b[0;34m=\u001b[0m \u001b[0mnp\u001b[0m\u001b[0;34m.\u001b[0m\u001b[0msum\u001b[0m\u001b[0;34m(\u001b[0m\u001b[0;34m(\u001b[0m\u001b[0my_true\u001b[0m \u001b[0;34m==\u001b[0m \u001b[0mi\u001b[0m\u001b[0;34m)\u001b[0m\u001b[0;34m)\u001b[0m\u001b[0;34m\u001b[0m\u001b[0;34m\u001b[0m\u001b[0m\n\u001b[1;32m     17\u001b[0m     \u001b[0my_pred_area\u001b[0m \u001b[0;34m=\u001b[0m \u001b[0mnp\u001b[0m\u001b[0;34m.\u001b[0m\u001b[0msum\u001b[0m\u001b[0;34m(\u001b[0m\u001b[0;34m(\u001b[0m\u001b[0my_pred\u001b[0m \u001b[0;34m==\u001b[0m \u001b[0mi\u001b[0m\u001b[0;34m)\u001b[0m\u001b[0;34m)\u001b[0m\u001b[0;34m\u001b[0m\u001b[0;34m\u001b[0m\u001b[0m\n",
            "\u001b[0;31mValueError\u001b[0m: operands could not be broadcast together with shapes (64,84,11) (64,84) "
          ]
        }
      ]
    },
    {
      "cell_type": "code",
      "metadata": {
        "id": "LxMvf9CcwAiJ"
      },
      "source": [
        "cls_wise_iou, cls_wise_dice_score = class_wise_metrics(np.argmax(y_true_segments, axis=3), results)\r\n",
        "\r\n",
        "average_iou = 0.0\r\n",
        "for idx, (iou, dice_score) in enumerate(zip(cls_wise_iou[:-1], cls_wise_dice_score[:-1])):\r\n",
        "  print(\"Digit {}: IOU: {} Dice Score: {}\".format(idx, iou, dice_score)) \r\n",
        "  average_iou += iou\r\n",
        "\r\n",
        "grade = average_iou * 10\r\n",
        "\r\n",
        "print(\"\\nGrade is \" + str(grade))\r\n",
        "\r\n",
        "PASSING_GRADE = 60\r\n",
        "if (grade>PASSING_GRADE):\r\n",
        "  print(\"You passed!\")\r\n",
        "else:\r\n",
        "  print(\"You failed. Please check your model and re-train\")"
      ],
      "execution_count": null,
      "outputs": []
    },
    {
      "cell_type": "code",
      "metadata": {
        "id": "-2ueg5tewDgz"
      },
      "source": [
        ""
      ],
      "execution_count": null,
      "outputs": []
    }
  ]
}